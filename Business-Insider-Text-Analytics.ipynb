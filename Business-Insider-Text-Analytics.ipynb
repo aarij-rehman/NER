{
 "cells": [
  {
   "cell_type": "markdown",
   "metadata": {},
   "source": [
    "# Import Packages"
   ]
  },
  {
   "cell_type": "code",
   "execution_count": 1,
   "metadata": {},
   "outputs": [],
   "source": [
    "import pandas as pd\n",
    "import numpy as np\n",
    "import glob\n",
    "import re"
   ]
  },
  {
   "cell_type": "code",
   "execution_count": 2,
   "metadata": {},
   "outputs": [],
   "source": [
    "from sklearn.linear_model import LogisticRegression\n",
    "from sklearn import metrics\n",
    "from sklearn.model_selection import train_test_split\n",
    "from sklearn.preprocessing import StandardScaler"
   ]
  },
  {
   "cell_type": "code",
   "execution_count": 3,
   "metadata": {},
   "outputs": [],
   "source": [
    "import nltk\n",
    "from nltk.corpus import stopwords\n",
    "from nltk.tokenize import sent_tokenize\n",
    "stop_words=set(stopwords.words(\"english\"))"
   ]
  },
  {
   "cell_type": "markdown",
   "metadata": {},
   "source": [
    "# Read Data and Construct Corpus"
   ]
  },
  {
   "cell_type": "code",
   "execution_count": 4,
   "metadata": {
    "scrolled": true
   },
   "outputs": [],
   "source": [
    "company_df = pd.read_csv('/Users/aarij/Desktop/python-projects/iems-308/BusinessInsiderNLP/labels/companies.csv', \n",
    "                         names = ['Company'], dtype = {'Company' : str})\n",
    "percent_df = pd.read_csv('/Users/aarij/Desktop/python-projects/iems-308/BusinessInsiderNLP/labels/percentage.csv',\n",
    "                         names = ['percent'], dtype = {'percent':str}, engine = 'python')\n",
    "ceo_df = pd.read_csv('/Users/aarij/Desktop/python-projects/iems-308/BusinessInsiderNLP/labels/ceo.csv',\n",
    "                         names = ['first', 'last'], dtype = {'ceo':str}, engine = 'python')"
   ]
  },
  {
   "cell_type": "code",
   "execution_count": 5,
   "metadata": {
    "scrolled": true
   },
   "outputs": [],
   "source": [
    "files = glob.glob('/Users/aarij/Desktop/python-projects/iems-308/BusinessInsiderNLP/articles/*/*.txt')"
   ]
  },
  {
   "cell_type": "code",
   "execution_count": 6,
   "metadata": {
    "scrolled": true
   },
   "outputs": [],
   "source": [
    "# Creating the corpus \n",
    "corpus = []\n",
    "for file in files:\n",
    "   # open the file and then call .read() to get the text \n",
    "    with open(file, encoding=\"ISO-8859-1\") as f:\n",
    "        text = f.read()\n",
    "    corpus.append(text)"
   ]
  },
  {
   "cell_type": "code",
   "execution_count": 7,
   "metadata": {
    "scrolled": true
   },
   "outputs": [],
   "source": [
    "# Tokenizing by sentence \n",
    "sentences =[]\n",
    "for file in range(len(corpus)):\n",
    "    corpus[file] = re.sub(r'[^\\x00-\\x7f]|[*]',r'', corpus[file])\n",
    "    sentences.append(sent_tokenize(corpus[file]))"
   ]
  },
  {
   "cell_type": "code",
   "execution_count": 8,
   "metadata": {},
   "outputs": [],
   "source": [
    "# Flattening a list \n",
    "flat = [item for sublist in sentences for item in sublist]\n",
    "sentences = flat"
   ]
  },
  {
   "cell_type": "markdown",
   "metadata": {},
   "source": [
    "# CEOs\n"
   ]
  },
  {
   "cell_type": "markdown",
   "metadata": {},
   "source": [
    "## Feature Construction for CEO Name Recognition"
   ]
  },
  {
   "cell_type": "markdown",
   "metadata": {},
   "source": [
    "### Sentence Specific  Features"
   ]
  },
  {
   "cell_type": "code",
   "execution_count": 9,
   "metadata": {},
   "outputs": [],
   "source": [
    "# Determines the length of a sentence\n",
    "def length_sentence(sentence):\n",
    "    return len(sentence)"
   ]
  },
  {
   "cell_type": "code",
   "execution_count": 10,
   "metadata": {},
   "outputs": [],
   "source": [
    "# Checks if CEO is in a sentence\n",
    "def ceo_in_sentence(sentence):\n",
    "    ceo = 0\n",
    "    if re.search(r'ceo', sentence) != None or re.search(r'chief executive officer', sentence.lower()) != None: \n",
    "        ceo = 1\n",
    "    return ceo"
   ]
  },
  {
   "cell_type": "markdown",
   "metadata": {},
   "source": [
    "### Candidate Name Specific Features"
   ]
  },
  {
   "cell_type": "code",
   "execution_count": 11,
   "metadata": {},
   "outputs": [],
   "source": [
    "# Finds the length of a candidate\n",
    "def length_candidate(item):\n",
    "    return len(item)"
   ]
  },
  {
   "cell_type": "code",
   "execution_count": 12,
   "metadata": {},
   "outputs": [],
   "source": [
    "# Checks if CEO is close to a candidate\n",
    "def ceo_close(item, sent):\n",
    "    x = re.search('ceo', sent)\n",
    "    if x == None: return 0\n",
    "    y = re.search(re.compile(item), sent)\n",
    "    if y == None: return 0\n",
    "    if abs(x.start() - y.start()) < 20:\n",
    "        return 1\n",
    "    return 0"
   ]
  },
  {
   "cell_type": "markdown",
   "metadata": {},
   "source": [
    "### Constiuent Names Features"
   ]
  },
  {
   "cell_type": "code",
   "execution_count": 13,
   "metadata": {},
   "outputs": [],
   "source": [
    "# Checks if a list of words contains any stop words \n",
    "def stop_in_name(words):\n",
    "    stop = 0\n",
    "    for word in words:\n",
    "        if word.lower() in stop_words:\n",
    "            stop = 1\n",
    "            return stop\n",
    "    return stop"
   ]
  },
  {
   "cell_type": "markdown",
   "metadata": {},
   "source": [
    "### Feature Construction"
   ]
  },
  {
   "cell_type": "code",
   "execution_count": 14,
   "metadata": {},
   "outputs": [],
   "source": [
    "# Function which extracts candidates and creates features for CEO names\n",
    "def feature_creator_ceo (sentences):\n",
    "    candidates = []\n",
    "    for sent in range(len(sentences)):\n",
    "        curr = sentences[sent]\n",
    "        # Change CEO to ceo for better RegEx Parsing\n",
    "        curr = re.sub(r'CEO', 'ceo', curr) \n",
    "        # Extract all candidates\n",
    "        extract = re.findall(r'[A-Z][a-z]+ [A-Z][a-z]+', curr)\n",
    "        if extract != []:\n",
    "            # Extract sentence features\n",
    "            sentence_length = length_sentence(curr)\n",
    "            ceo = ceo_in_sentence(curr)\n",
    "            for item in extract:\n",
    "                # Extract candidate specific features\n",
    "                candidate_length = length_candidate(item)\n",
    "                close = ceo_close(item, curr)\n",
    "                # Extract name specific features\n",
    "                names = re.split(r'[ ]', item)\n",
    "                stop = stop_in_name(names)\n",
    "                # Append all values to a list\n",
    "                candidates.append([item, sentence_length, ceo, candidate_length, close, stop, curr, sent])\n",
    "    return candidates"
   ]
  },
  {
   "cell_type": "code",
   "execution_count": 15,
   "metadata": {
    "scrolled": false
   },
   "outputs": [],
   "source": [
    "candidates = feature_creator_ceo(sentences)"
   ]
  },
  {
   "cell_type": "code",
   "execution_count": 16,
   "metadata": {},
   "outputs": [],
   "source": [
    "# Create the dataframe for candidates and feature space\n",
    "df = pd.DataFrame(candidates, columns=['candidate', 'sentence_length', 'ceo_in_sentence', \n",
    "                                       'candidate_length', 'ceo_close', 'stopword_in_candidate', \n",
    "                                       'sentence', 'sentence_index'])"
   ]
  },
  {
   "cell_type": "markdown",
   "metadata": {},
   "source": [
    "## Model Training and Testing"
   ]
  },
  {
   "cell_type": "code",
   "execution_count": 17,
   "metadata": {},
   "outputs": [],
   "source": [
    "# Add labels to the dataframe \n",
    "ceo_df['name'] = ceo_df['first'] + ' ' + ceo_df['last']\n",
    "labels = []\n",
    "values = set(ceo_df['name'].tolist())\n",
    "for candidate in range(df.shape[0]):\n",
    "    if df.loc[candidate, 'candidate'] in values:labels.append(1)\n",
    "    else: labels.append(0)\n",
    "df['label'] = labels"
   ]
  },
  {
   "cell_type": "code",
   "execution_count": 18,
   "metadata": {
    "scrolled": true
   },
   "outputs": [],
   "source": [
    "# Fitting model to training data\n",
    "# Select features\n",
    "features = ['sentence_length', 'ceo_in_sentence', \n",
    "            'candidate_length', 'ceo_close', 'stopword_in_candidate']\n",
    "scaler = StandardScaler()\n",
    "X = df[features].copy()\n",
    "# Standardize features\n",
    "scaler.fit(X)\n",
    "X[features] = scaler.fit_transform(X[features])\n",
    "y = df['label']"
   ]
  },
  {
   "cell_type": "code",
   "execution_count": 19,
   "metadata": {
    "scrolled": false
   },
   "outputs": [
    {
     "data": {
      "text/plain": [
       "LogisticRegression(C=1.0, class_weight=None, dual=False, fit_intercept=True,\n",
       "                   intercept_scaling=1, l1_ratio=None, max_iter=100,\n",
       "                   multi_class='auto', n_jobs=None, penalty='l2',\n",
       "                   random_state=None, solver='lbfgs', tol=0.0001, verbose=0,\n",
       "                   warm_start=False)"
      ]
     },
     "execution_count": 19,
     "metadata": {},
     "output_type": "execute_result"
    }
   ],
   "source": [
    "# Randomly partioning training and testing data\n",
    "X_train, X_test, y_train, y_test = train_test_split(X,y,test_size=0.50) \n",
    "log = LogisticRegression()\n",
    "# Fitting model to training partition\n",
    "log.fit(X_train, y_train)"
   ]
  },
  {
   "cell_type": "code",
   "execution_count": 20,
   "metadata": {},
   "outputs": [
    {
     "data": {
      "text/plain": [
       "0.9730454296716151"
      ]
     },
     "execution_count": 20,
     "metadata": {},
     "output_type": "execute_result"
    }
   ],
   "source": [
    "# Predicting Training Data\n",
    "results = log.predict(X_test)\n",
    "metrics.accuracy_score(results, y_test)"
   ]
  },
  {
   "cell_type": "code",
   "execution_count": 21,
   "metadata": {
    "scrolled": false
   },
   "outputs": [
    {
     "name": "stdout",
     "output_type": "stream",
     "text": [
      "There are 6091 CEOs according to the labels and 989 candiates were classified as CEOs\n"
     ]
    }
   ],
   "source": [
    "correct = X_test.copy()\n",
    "correct['predict'] = pd.Series(results)\n",
    "correct['label'] = y_test\n",
    "label1 = correct[correct['label'] == 1].shape[0]\n",
    "result1 = correct[correct['predict'] == 1].shape[0]\n",
    "print(f'There are {label1} CEOs according to the labels and {result1} candiates were classified as CEOs')"
   ]
  },
  {
   "cell_type": "markdown",
   "metadata": {},
   "source": [
    "## Extracting Entities"
   ]
  },
  {
   "cell_type": "code",
   "execution_count": 22,
   "metadata": {
    "scrolled": true
   },
   "outputs": [],
   "source": [
    "# Predicting on entire dataset\n",
    "feature_space = df.copy()\n",
    "feature_space[features] = scaler.fit_transform(feature_space[features])\n",
    "predictions = log.predict(feature_space[features])"
   ]
  },
  {
   "cell_type": "code",
   "execution_count": 23,
   "metadata": {},
   "outputs": [],
   "source": [
    "# Getting unique entities\n",
    "df['predict'] = predictions\n",
    "results = set(df[df['predict'] == 1].candidate.tolist())"
   ]
  },
  {
   "cell_type": "code",
   "execution_count": 24,
   "metadata": {
    "scrolled": true
   },
   "outputs": [],
   "source": [
    "# Writing to file\n",
    "with open('ceo_names', 'w') as f:\n",
    "    for ceo in results:\n",
    "        f.write(ceo+'\\n')"
   ]
  },
  {
   "cell_type": "markdown",
   "metadata": {},
   "source": [
    "# Companies "
   ]
  },
  {
   "cell_type": "markdown",
   "metadata": {},
   "source": [
    "### Sentence Specific "
   ]
  },
  {
   "cell_type": "code",
   "execution_count": 25,
   "metadata": {},
   "outputs": [],
   "source": [
    "# Determines if the word 'company' is in a sentence\n",
    "def company_in_sentence(sentence):\n",
    "    ret = 0\n",
    "    if re.search(r'company', sentence.lower()) != None:\n",
    "        ret = 1\n",
    "    return ret"
   ]
  },
  {
   "cell_type": "code",
   "execution_count": 26,
   "metadata": {},
   "outputs": [],
   "source": [
    "# Determines if the word 'stock' is in a sentence\n",
    "def stock_in_sentence(sentence):\n",
    "    ret = 0\n",
    "    if re.search(r'stock', sentence.lower()) != None:\n",
    "        ret = 1\n",
    "    return ret"
   ]
  },
  {
   "cell_type": "code",
   "execution_count": 27,
   "metadata": {},
   "outputs": [],
   "source": [
    "# Determine if the word 'shares' is in a sentence \n",
    "def shares_in_sentence(sentence):\n",
    "    ret = 0\n",
    "    if re.search(r'share', sentence.lower()) != None:\n",
    "        ret = 1\n",
    "    return ret"
   ]
  },
  {
   "cell_type": "code",
   "execution_count": 28,
   "metadata": {},
   "outputs": [],
   "source": [
    "# Determines if a variation of 'trade' is in a sentence\n",
    "def trade_in_sentence(sentence):\n",
    "    ret = 0\n",
    "    if re.search(r'trad', sentence.lower()) != None: #trad bc looking for 'trade', 'trading', 'trades', etc. \n",
    "        ret = 1\n",
    "    return ret"
   ]
  },
  {
   "cell_type": "markdown",
   "metadata": {},
   "source": [
    "### Company Specific "
   ]
  },
  {
   "cell_type": "code",
   "execution_count": 29,
   "metadata": {},
   "outputs": [],
   "source": [
    "# Removes a space from the end of a word\n",
    "def space_remove(item):\n",
    "    if item[len(item) - 1] == ' ':\n",
    "        return item[0:len(item) - 1]\n",
    "    return item"
   ]
  },
  {
   "cell_type": "code",
   "execution_count": 30,
   "metadata": {},
   "outputs": [],
   "source": [
    "# Returns the length of a word\n",
    "def length_of_company(item):\n",
    "    return len(item)"
   ]
  },
  {
   "cell_type": "code",
   "execution_count": 31,
   "metadata": {},
   "outputs": [],
   "source": [
    "# Determines if a word is plural\n",
    "def plural_word(item):\n",
    "    plural = 0\n",
    "    if item[len(item) - 1] == 's':\n",
    "        plural = 1\n",
    "    return plural"
   ]
  },
  {
   "cell_type": "code",
   "execution_count": 32,
   "metadata": {},
   "outputs": [],
   "source": [
    "# Returns the number of words a list of words\n",
    "def number_of_words(words):\n",
    "    return len(words)"
   ]
  },
  {
   "cell_type": "code",
   "execution_count": 33,
   "metadata": {},
   "outputs": [],
   "source": [
    "# Returns where a word occurs in a sentence\n",
    "def location_in_sentence(sentence, item):\n",
    "    return re.search(re.compile(item), sentence).start()    "
   ]
  },
  {
   "cell_type": "code",
   "execution_count": 34,
   "metadata": {},
   "outputs": [],
   "source": [
    "# Determines if a stop word is in a list of words\n",
    "def stop_word(words):\n",
    "    stop = 0\n",
    "    for word in words:\n",
    "        if word.lower() in stop_words:\n",
    "            stop = 1\n",
    "            return stop\n",
    "    return stop"
   ]
  },
  {
   "cell_type": "code",
   "execution_count": 35,
   "metadata": {},
   "outputs": [],
   "source": [
    "def company_words(words):\n",
    "    values = set(['corp', 'corp.', 'corporation', 'group', 'holding', 'inc', 'inc.', 'company', 'association', 'foundation', 'ltd'])\n",
    "    for item in words:\n",
    "        word = item.lower()\n",
    "        if word in values:\n",
    "            return 1\n",
    "    return 0"
   ]
  },
  {
   "cell_type": "code",
   "execution_count": 36,
   "metadata": {},
   "outputs": [],
   "source": [
    "# Extracting candidates and feature space for companies \n",
    "def feature_creator_companies (sentences):\n",
    "    candidates = []\n",
    "    for sent in range(len(sentences)):\n",
    "        curr = sentences[sent]\n",
    "        extract = re.findall(r'(([A-Z][a-z]+ ?)+)', curr)\n",
    "        if extract != []:\n",
    "            # Getting only the candidate\n",
    "            flat = [item[0] for item in extract]\n",
    "            extract = flat\n",
    "            # Extracting sentence specific features\n",
    "            company = company_in_sentence(curr)\n",
    "            stock = stock_in_sentence(curr)\n",
    "            shares = shares_in_sentence(curr)\n",
    "            trade = trade_in_sentence(curr) \n",
    "            for item in extract:\n",
    "                new = space_remove(item)\n",
    "                words = re.split(r' ', new)\n",
    "                # Extracting candidate specific features\n",
    "                length = length_of_company(new)\n",
    "                plural = plural_word(new)\n",
    "                location = location_in_sentence(curr, new)\n",
    "                # Extracting constiuent specific features\n",
    "                number_words = number_of_words(words)\n",
    "                stop = stop_word(words)\n",
    "                corp = company_words(words)\n",
    "                candidates.append([new, company, stock, shares, trade, length, plural, location, number_words,\n",
    "                                   stop, corp])\n",
    "    return candidates"
   ]
  },
  {
   "cell_type": "code",
   "execution_count": 37,
   "metadata": {
    "scrolled": false
   },
   "outputs": [],
   "source": [
    "candidates = feature_creator_companies(sentences)"
   ]
  },
  {
   "cell_type": "code",
   "execution_count": 38,
   "metadata": {
    "scrolled": true
   },
   "outputs": [],
   "source": [
    "df = pd.DataFrame(candidates, columns = ['candidate', 'company', 'stock', \n",
    "                                         'shares', 'trade', 'length', 'plural', 'location',\n",
    "                                         'number_words', 'stop', 'corp'])"
   ]
  },
  {
   "cell_type": "markdown",
   "metadata": {},
   "source": [
    "## Model Training and Testing"
   ]
  },
  {
   "cell_type": "code",
   "execution_count": 39,
   "metadata": {
    "scrolled": true
   },
   "outputs": [],
   "source": [
    "# Adding Labels to company df\n",
    "labels = []\n",
    "candidate = df['candidate'].tolist()\n",
    "values = set(company_df['Company'].tolist())\n",
    "for person in candidate:\n",
    "    if person in values: \n",
    "        labels.append(1)\n",
    "    else: labels.append(0)\n",
    "df['label'] = labels"
   ]
  },
  {
   "cell_type": "code",
   "execution_count": 40,
   "metadata": {
    "scrolled": true
   },
   "outputs": [],
   "source": [
    "# Standardizing data\n",
    "features = ['company', 'stock', 'shares', 'trade', 'length',\n",
    "            'number_words', 'stop', 'corp']\n",
    "scaler = StandardScaler()\n",
    "X = df[features].copy()\n",
    "scaler.fit(X)\n",
    "X[features] = scaler.fit_transform(X[features])\n",
    "y = df['label']"
   ]
  },
  {
   "cell_type": "code",
   "execution_count": 41,
   "metadata": {
    "scrolled": false
   },
   "outputs": [
    {
     "data": {
      "text/plain": [
       "LogisticRegression(C=1.0, class_weight=None, dual=False, fit_intercept=True,\n",
       "                   intercept_scaling=1, l1_ratio=None, max_iter=100,\n",
       "                   multi_class='auto', n_jobs=None, penalty='l2',\n",
       "                   random_state=None, solver='lbfgs', tol=0.0001, verbose=0,\n",
       "                   warm_start=False)"
      ]
     },
     "execution_count": 41,
     "metadata": {},
     "output_type": "execute_result"
    }
   ],
   "source": [
    "# Fitting model to training data\n",
    "X_train, X_test, y_train, y_test = train_test_split(X,y,test_size=0.50) \n",
    "log = LogisticRegression()\n",
    "log.fit(X_train, y_train)"
   ]
  },
  {
   "cell_type": "code",
   "execution_count": 42,
   "metadata": {
    "scrolled": false
   },
   "outputs": [
    {
     "data": {
      "text/plain": [
       "0.9305887533023022"
      ]
     },
     "execution_count": 42,
     "metadata": {},
     "output_type": "execute_result"
    }
   ],
   "source": [
    "# Predicting testing data\n",
    "results = log.predict(X_test)\n",
    "metrics.accuracy_score(results, y_test)"
   ]
  },
  {
   "cell_type": "code",
   "execution_count": 43,
   "metadata": {
    "scrolled": false
   },
   "outputs": [
    {
     "name": "stdout",
     "output_type": "stream",
     "text": [
      "There are 52540 companies according to the labels and 663 candiates were classified as companies\n"
     ]
    }
   ],
   "source": [
    "correct = X_test.copy()\n",
    "correct['predict'] = pd.Series(results)\n",
    "correct['label'] = y_test\n",
    "label1 = correct[correct['label'] == 1].shape[0]\n",
    "result1 = correct[correct['predict'] == 1].shape[0]\n",
    "print(f'There are {label1} companies according to the labels and {result1} candiates were classified as companies')"
   ]
  },
  {
   "cell_type": "markdown",
   "metadata": {},
   "source": [
    "## Extracting Entities"
   ]
  },
  {
   "cell_type": "code",
   "execution_count": 44,
   "metadata": {
    "scrolled": false
   },
   "outputs": [],
   "source": [
    "# Predicting on entire dataset\n",
    "feature_space = df.copy()\n",
    "feature_space[features] = scaler.fit_transform(feature_space[features])\n",
    "predictions = log.predict(feature_space[features])"
   ]
  },
  {
   "cell_type": "code",
   "execution_count": 45,
   "metadata": {},
   "outputs": [],
   "source": [
    "# Getting unique entities\n",
    "df['predict'] = predictions\n",
    "results = set(df[df['predict'] == 1].candidate.tolist())"
   ]
  },
  {
   "cell_type": "code",
   "execution_count": 46,
   "metadata": {
    "scrolled": true
   },
   "outputs": [],
   "source": [
    "# Writing to file\n",
    "with open('company_names', 'w') as f:\n",
    "    for company in results:\n",
    "        f.write(company+'\\n')"
   ]
  },
  {
   "cell_type": "markdown",
   "metadata": {},
   "source": [
    "# Percentages "
   ]
  },
  {
   "cell_type": "markdown",
   "metadata": {},
   "source": [
    "### Sentence Specific Features"
   ]
  },
  {
   "cell_type": "code",
   "execution_count": 47,
   "metadata": {},
   "outputs": [],
   "source": [
    "# Determines if the word 'percent' follows another word in a sentence\n",
    "def percent_word(word, sentence):\n",
    "    ret = 0\n",
    "    try:\n",
    "        percent_starts = re.search(re.compile(word), sentence).start() + len(word) + 1\n",
    "        if percent_starts == re.search(r'percent', sentence.lower()).start():\n",
    "            ret = 1\n",
    "    except: pass\n",
    "    return ret"
   ]
  },
  {
   "cell_type": "code",
   "execution_count": 48,
   "metadata": {},
   "outputs": [],
   "source": [
    "# Determines if the '%' symbole follows another word in a sentence\n",
    "def percent_symbol(word, sentence):\n",
    "    ret = 0\n",
    "    try:\n",
    "        pot = re.search(re.compile(word), sentence).start() + len(word)\n",
    "        if sentence[pot] == '%' or sentence[pot+1] == '%':\n",
    "            ret = 1\n",
    "    except: pass\n",
    "    return ret"
   ]
  },
  {
   "cell_type": "code",
   "execution_count": 49,
   "metadata": {},
   "outputs": [],
   "source": [
    "# Creating regex patterns for numbers\n",
    "numbers = re.compile('[0-9]+\\.?[0-9]+')\n",
    "number_word = re.compile('one|two|three|four|five')\n",
    "number_word_teens = re.compile('fourteen|fifteen|sixteen|seventeen|eighteen|nineteen|zero|one|two|three|four|five|six|seven|eight|nine|ten|eleven|twelve|thirteen')\n",
    "number_word_tens = re.compile(r'((twenty|thirty|fourty|fifty|sixty|seventy|eighty|ninety)(-|\\s)?(one|two|three|four|five|six|seven|eight|nine)?)')"
   ]
  },
  {
   "cell_type": "code",
   "execution_count": 50,
   "metadata": {},
   "outputs": [],
   "source": [
    "# Extracting candidates and creating feature space\n",
    "def feature_creator_percentage(sentences):\n",
    "    candidates = []\n",
    "    for sent in sentences:\n",
    "        extract = []\n",
    "        extract = re.findall(numbers, sent) + re.findall(number_word, sent) + re.findall(number_word_teens, sent) + [item[0] for item in re.findall(number_word_tens, sent)]\n",
    "        if extract != []:\n",
    "            for number in extract:\n",
    "                word_after = percent_word(number, sent) \n",
    "                symbol_after = percent_symbol(number, sent)\n",
    "                candidates.append([number, word_after, symbol_after])\n",
    "    return candidates"
   ]
  },
  {
   "cell_type": "code",
   "execution_count": 51,
   "metadata": {},
   "outputs": [],
   "source": [
    "candidates = feature_creator_percentage(sentences)"
   ]
  },
  {
   "cell_type": "code",
   "execution_count": 52,
   "metadata": {},
   "outputs": [],
   "source": [
    "df = pd.DataFrame(candidates, columns=['candidate','percent', '%'])"
   ]
  },
  {
   "cell_type": "code",
   "execution_count": 53,
   "metadata": {},
   "outputs": [],
   "source": [
    "# Adding Labels to percentage df\n",
    "labels = []\n",
    "lst = df['candidate'].tolist()\n",
    "values = set(percent_df['percent'].tolist())\n",
    "for item in range(df.shape[0]):\n",
    "    if lst[item] in values: labels.append(1)\n",
    "    else: labels.append(0)\n",
    "df['label'] = labels"
   ]
  },
  {
   "cell_type": "code",
   "execution_count": 54,
   "metadata": {},
   "outputs": [],
   "source": [
    "# Standardizing training data\n",
    "features = ['percent', '%']\n",
    "scaler = StandardScaler()\n",
    "X = df[features].copy()\n",
    "scaler.fit(X)\n",
    "X[features] = scaler.fit_transform(X[features])\n",
    "y = df['label']"
   ]
  },
  {
   "cell_type": "code",
   "execution_count": 55,
   "metadata": {
    "scrolled": true
   },
   "outputs": [
    {
     "data": {
      "text/plain": [
       "LogisticRegression(C=1.0, class_weight=None, dual=False, fit_intercept=True,\n",
       "                   intercept_scaling=1, l1_ratio=None, max_iter=100,\n",
       "                   multi_class='auto', n_jobs=None, penalty='l2',\n",
       "                   random_state=None, solver='lbfgs', tol=0.0001, verbose=0,\n",
       "                   warm_start=False)"
      ]
     },
     "execution_count": 55,
     "metadata": {},
     "output_type": "execute_result"
    }
   ],
   "source": [
    "# Partioning training/testing data and training model\n",
    "X_train, X_test, y_train, y_test = train_test_split(X,y,test_size=0.50) \n",
    "log = LogisticRegression()\n",
    "log.fit(X_train, y_train)"
   ]
  },
  {
   "cell_type": "code",
   "execution_count": 56,
   "metadata": {},
   "outputs": [
    {
     "data": {
      "text/plain": [
       "0.7727492416389502"
      ]
     },
     "execution_count": 56,
     "metadata": {},
     "output_type": "execute_result"
    }
   ],
   "source": [
    "# Predicting model on testing data\n",
    "results = log.predict(X_test)\n",
    "metrics.accuracy_score(results, y_test)"
   ]
  },
  {
   "cell_type": "code",
   "execution_count": 57,
   "metadata": {
    "scrolled": false
   },
   "outputs": [
    {
     "name": "stdout",
     "output_type": "stream",
     "text": [
      "There are 96518 percentages according to the labels and 14531 candiates were classified as percentages\n"
     ]
    }
   ],
   "source": [
    "correct = X_test.copy()\n",
    "correct['predict'] = pd.Series(results)\n",
    "correct['label'] = y_test\n",
    "label1 = correct[correct['label'] == 1].shape[0]\n",
    "result1 = correct[correct['predict'] == 1].shape[0]\n",
    "print(f'There are {label1} percentages according to the labels and {result1} candiates were classified as percentages')"
   ]
  },
  {
   "cell_type": "markdown",
   "metadata": {},
   "source": [
    "## Extracting Entities"
   ]
  },
  {
   "cell_type": "code",
   "execution_count": 58,
   "metadata": {
    "scrolled": false
   },
   "outputs": [],
   "source": [
    "# Predicting model on all data\n",
    "feature_space = df.copy()\n",
    "feature_space[features] = scaler.fit_transform(feature_space[features])\n",
    "predictions = log.predict(feature_space[features])"
   ]
  },
  {
   "cell_type": "code",
   "execution_count": 59,
   "metadata": {
    "scrolled": true
   },
   "outputs": [],
   "source": [
    "# Extracting 'all' entities (as opposed to just unique ones)\n",
    "df['predict'] = predictions\n",
    "results = df[df['predict'] == 1].candidate.tolist()"
   ]
  },
  {
   "cell_type": "code",
   "execution_count": 60,
   "metadata": {
    "scrolled": true
   },
   "outputs": [],
   "source": [
    "# Writing to file\n",
    "with open('percentages', 'w') as f:\n",
    "    for percent in results:\n",
    "        f.write(percent+'\\n')"
   ]
  }
 ],
 "metadata": {
  "kernelspec": {
   "display_name": "Python 3",
   "language": "python",
   "name": "python3"
  },
  "language_info": {
   "codemirror_mode": {
    "name": "ipython",
    "version": 3
   },
   "file_extension": ".py",
   "mimetype": "text/x-python",
   "name": "python",
   "nbconvert_exporter": "python",
   "pygments_lexer": "ipython3",
   "version": "3.7.4"
  }
 },
 "nbformat": 4,
 "nbformat_minor": 2
}
